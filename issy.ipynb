{
 "cells": [
  {
   "cell_type": "code",
   "execution_count": 2,
   "metadata": {},
   "outputs": [],
   "source": [
    "# load dependancies\n",
    "import pandas as pd"
   ]
  },
  {
   "cell_type": "code",
   "execution_count": 3,
   "metadata": {},
   "outputs": [],
   "source": [
    "# read in csv to pandas dataframe\n",
    "raw_data = pd.read_csv('2022-23_data_sa_crime.csv')"
   ]
  },
  {
   "cell_type": "code",
   "execution_count": 4,
   "metadata": {},
   "outputs": [],
   "source": [
    "df = raw_data.copy()\n",
    "\n",
    "# drop columns that are not needed\n",
    "df.drop(['Offence Level 3 Description'], axis=1, inplace=True)\n",
    "\n",
    "# change reported date to ISO format (YYYY-MM-DD)\n",
    "df['Reported Date'] = pd.to_datetime(df['Reported Date'], format='%d/%m/%Y')\n",
    "\n",
    "# rename columns\n",
    "df.columns = ['Date', 'Suburb', 'Postcode', 'Offence Level 1 Description', 'Offence Level 2 Description', 'Offence Count']"
   ]
  },
  {
   "cell_type": "code",
   "execution_count": 5,
   "metadata": {},
   "outputs": [],
   "source": [
    "# string of data with postcode, suburb, ditance from cbd, first line is not a header\n",
    "radius50km = pd.read_csv('radius50kmcbd.csv', header=None)\n",
    "\n",
    "# split data into columns, delimiter is \",\"\n",
    "radius50km = radius50km[0].str.split(',', expand=True)\n",
    "\n",
    "# rename columns\n",
    "radius50km.columns = ['Postcode', 'Location', 'Distance from CBD (km)']\n",
    "\n",
    "# drop location column\n",
    "radius50km.drop(['Location'], axis=1, inplace=True)\n",
    "\n",
    "# aggregate all rows by postcode, average the distance from cbd if not 0\n",
    "radius50km = radius50km.groupby(['Postcode'], as_index=False).agg(\n",
    "    {'Distance from CBD (km)': lambda x: x.astype(float).mean(skipna=True)}\n",
    ")"
   ]
  },
  {
   "cell_type": "code",
   "execution_count": 6,
   "metadata": {},
   "outputs": [],
   "source": [
    "# drop all rows from df if the postcode is not in the radius50km dataframe\n",
    "df_50kmradius = df[df['Postcode'].isin(radius50km['Postcode'])]\n",
    "\n",
    "# add the distance from cbd column to df_50kmradius\n",
    "df_50kmradius = pd.merge(df_50kmradius, radius50km, on='Postcode')"
   ]
  },
  {
   "cell_type": "code",
   "execution_count": 7,
   "metadata": {},
   "outputs": [],
   "source": [
    "# summarise offences by level 2 description\n",
    "df_level2 = df_50kmradius.groupby(['Date', 'Suburb', 'Offence Level 2 Description'], as_index=False).agg(\n",
    "    {'Postcode': 'first', \n",
    "     'Distance from CBD (km)': 'first',\n",
    "     'Offence Level 1 Description': 'first', \n",
    "     'Offence Level 2 Description': 'first',\n",
    "     'Offence Count': 'sum'\n",
    "     }\n",
    ")                  "
   ]
  },
  {
   "cell_type": "code",
   "execution_count": 8,
   "metadata": {},
   "outputs": [],
   "source": [
    "# summarise offences by level 1 description\n",
    "df_level1 = df_50kmradius.groupby(['Date', 'Suburb', 'Offence Level 1 Description'], as_index=False).agg(\n",
    "    {'Postcode': 'first', \n",
    "     'Distance from CBD (km)': 'first',\n",
    "     'Offence Level 1 Description': 'first', \n",
    "     'Offence Count': 'sum',}\n",
    ")    "
   ]
  },
  {
   "cell_type": "code",
   "execution_count": 9,
   "metadata": {},
   "outputs": [
    {
     "name": "stdout",
     "output_type": "stream",
     "text": [
      "length of df 97078\n",
      "length of df with only suburbs in 50km radius 77456\n",
      "length of df_level2 68046\n",
      "length of df_level1 54820\n"
     ]
    }
   ],
   "source": [
    "print(f\"length of df {len(df)}\")\n",
    "print(f\"length of df with only suburbs in 50km radius {len(df_50kmradius)}\")\n",
    "print(f\"length of df_level2 {len(df_level2)}\")\n",
    "print(f\"length of df_level1 {len(df_level1)}\")"
   ]
  },
  {
   "cell_type": "code",
   "execution_count": 10,
   "metadata": {},
   "outputs": [],
   "source": [
    "# export all to csv\n",
    "# df.to_csv('all_data_clean.csv', index=False)\n",
    "# df_50kmradius.to_csv('50kmradius_data_clean.csv', index=False)\n",
    "# df_level2.to_csv('level2_data_clean.csv', index=False)\n",
    "# df_level1.to_csv('level1_data_clean.csv', index=False)"
   ]
  },
  {
   "cell_type": "code",
   "execution_count": 11,
   "metadata": {},
   "outputs": [],
   "source": [
    "# dictionary of shorter terms\n",
    "short_terms = {\n",
    "    'Offence Level 1 Description': {\n",
    "        'OFFENCES AGAINST THE PERSON': 'PERSON',\n",
    "        'OFFENCES AGAINST PROPERTY': 'PROPERTY',\n",
    "    },\n",
    "    'Offence Level 2 Description': {\n",
    "        'FRAUD DECEPTION AND RELATED OFFENCES': 'FRAUD',\n",
    "        'PROPERTY DAMAGE AND ENVIRONMENTAL': 'PROPERTY DAMAGE',\n",
    "        'SERIOUS CRIMINAL TRESPASS': 'TRESPASS',\n",
    "        'THEFT AND RELATED OFFENCES': 'THEFT',\n",
    "        'ACTS INTENDED TO CAUSE INJURY': 'INJURY',\n",
    "        'OTHER OFFENCES AGAINST THE PERSON': 'OTHER',\n",
    "        'ROBBERY AND RELATED OFFENCES': 'ROBBERY',\n",
    "        'SEXUAL ASSAULT AND RELATED OFFENCES': 'SEXUAL ASSAULT',\n",
    "        'HOMICIDE AND RELATED OFFENCES': 'HOMICIDE'\n",
    "    }\n",
    "}"
   ]
  },
  {
   "cell_type": "code",
   "execution_count": 12,
   "metadata": {},
   "outputs": [],
   "source": [
    "# final dataframe is df_50kmradius with short terms\n",
    "df_final = df_50kmradius.copy()\n",
    "df_final.replace(short_terms, inplace=True)"
   ]
  },
  {
   "cell_type": "code",
   "execution_count": 13,
   "metadata": {},
   "outputs": [],
   "source": [
    "df_final.to_csv('final_data_clean.csv', index=False)"
   ]
  },
  {
   "cell_type": "code",
   "execution_count": 14,
   "metadata": {},
   "outputs": [
    {
     "name": "stdout",
     "output_type": "stream",
     "text": [
      "Requirement already satisfied: sqlalchemy in /Library/Frameworks/Python.framework/Versions/3.11/lib/python3.11/site-packages (2.0.25)\n",
      "Requirement already satisfied: typing-extensions>=4.6.0 in /Library/Frameworks/Python.framework/Versions/3.11/lib/python3.11/site-packages (from sqlalchemy) (4.8.0)\n",
      "Note: you may need to restart the kernel to use updated packages.\n"
     ]
    }
   ],
   "source": [
    "%pip install --upgrade sqlalchemy"
   ]
  },
  {
   "cell_type": "code",
   "execution_count": 17,
   "metadata": {},
   "outputs": [
    {
     "name": "stdout",
     "output_type": "stream",
     "text": [
      "2024-01-22 19:37:16,684 INFO sqlalchemy.engine.Engine BEGIN (implicit)\n",
      "2024-01-22 19:37:16,691 INFO sqlalchemy.engine.Engine PRAGMA main.table_info(\"crime_data\")\n",
      "2024-01-22 19:37:16,691 INFO sqlalchemy.engine.Engine [raw sql] ()\n",
      "2024-01-22 19:37:16,693 INFO sqlalchemy.engine.Engine PRAGMA main.table_info(\"crime_data\")\n",
      "2024-01-22 19:37:16,693 INFO sqlalchemy.engine.Engine [raw sql] ()\n",
      "2024-01-22 19:37:16,694 INFO sqlalchemy.engine.Engine SELECT name FROM sqlite_master WHERE type='table' AND name NOT LIKE 'sqlite~_%' ESCAPE '~' ORDER BY name\n",
      "2024-01-22 19:37:16,694 INFO sqlalchemy.engine.Engine [raw sql] ()\n",
      "2024-01-22 19:37:16,695 INFO sqlalchemy.engine.Engine SELECT name FROM sqlite_master WHERE type='view' AND name NOT LIKE 'sqlite~_%' ESCAPE '~' ORDER BY name\n",
      "2024-01-22 19:37:16,697 INFO sqlalchemy.engine.Engine [raw sql] ()\n",
      "2024-01-22 19:37:16,705 INFO sqlalchemy.engine.Engine PRAGMA main.table_xinfo(\"crime_data\")\n",
      "2024-01-22 19:37:16,713 INFO sqlalchemy.engine.Engine [raw sql] ()\n",
      "2024-01-22 19:37:16,717 INFO sqlalchemy.engine.Engine SELECT sql FROM  (SELECT * FROM sqlite_master UNION ALL   SELECT * FROM sqlite_temp_master) WHERE name = ? AND type in ('table', 'view')\n",
      "2024-01-22 19:37:16,724 INFO sqlalchemy.engine.Engine [raw sql] ('crime_data',)\n",
      "2024-01-22 19:37:16,727 INFO sqlalchemy.engine.Engine PRAGMA main.foreign_key_list(\"crime_data\")\n",
      "2024-01-22 19:37:16,727 INFO sqlalchemy.engine.Engine [raw sql] ()\n",
      "2024-01-22 19:37:16,728 INFO sqlalchemy.engine.Engine PRAGMA temp.foreign_key_list(\"crime_data\")\n",
      "2024-01-22 19:37:16,728 INFO sqlalchemy.engine.Engine [raw sql] ()\n",
      "2024-01-22 19:37:16,729 INFO sqlalchemy.engine.Engine SELECT sql FROM  (SELECT * FROM sqlite_master UNION ALL   SELECT * FROM sqlite_temp_master) WHERE name = ? AND type in ('table', 'view')\n",
      "2024-01-22 19:37:16,730 INFO sqlalchemy.engine.Engine [raw sql] ('crime_data',)\n",
      "2024-01-22 19:37:16,731 INFO sqlalchemy.engine.Engine PRAGMA main.index_list(\"crime_data\")\n",
      "2024-01-22 19:37:16,732 INFO sqlalchemy.engine.Engine [raw sql] ()\n",
      "2024-01-22 19:37:16,734 INFO sqlalchemy.engine.Engine PRAGMA main.index_info(\"ix_crime_data_index\")\n",
      "2024-01-22 19:37:16,735 INFO sqlalchemy.engine.Engine [raw sql] ()\n",
      "2024-01-22 19:37:16,736 INFO sqlalchemy.engine.Engine PRAGMA main.index_list(\"crime_data\")\n",
      "2024-01-22 19:37:16,737 INFO sqlalchemy.engine.Engine [raw sql] ()\n",
      "2024-01-22 19:37:16,738 INFO sqlalchemy.engine.Engine PRAGMA main.index_info(\"ix_crime_data_index\")\n",
      "2024-01-22 19:37:16,738 INFO sqlalchemy.engine.Engine [raw sql] ()\n",
      "2024-01-22 19:37:16,739 INFO sqlalchemy.engine.Engine SELECT sql FROM  (SELECT * FROM sqlite_master UNION ALL   SELECT * FROM sqlite_temp_master) WHERE name = ? AND type in ('table', 'view')\n",
      "2024-01-22 19:37:16,740 INFO sqlalchemy.engine.Engine [raw sql] ('crime_data',)\n",
      "2024-01-22 19:37:16,741 INFO sqlalchemy.engine.Engine \n",
      "DROP TABLE crime_data\n",
      "2024-01-22 19:37:16,741 INFO sqlalchemy.engine.Engine [no key 0.00030s] ()\n",
      "2024-01-22 19:37:16,772 INFO sqlalchemy.engine.Engine \n",
      "CREATE TABLE crime_data (\n",
      "\t\"index\" BIGINT, \n",
      "\t\"Date\" DATETIME, \n",
      "\t\"Suburb\" TEXT, \n",
      "\t\"Postcode\" TEXT, \n",
      "\t\"Offence Level 1 Description\" TEXT, \n",
      "\t\"Offence Level 2 Description\" TEXT, \n",
      "\t\"Offence Count\" BIGINT, \n",
      "\t\"Distance from CBD (km)\" FLOAT\n",
      ")\n",
      "\n",
      "\n",
      "2024-01-22 19:37:16,772 INFO sqlalchemy.engine.Engine [no key 0.00036s] ()\n",
      "2024-01-22 19:37:16,773 INFO sqlalchemy.engine.Engine CREATE INDEX ix_crime_data_index ON crime_data (\"index\")\n",
      "2024-01-22 19:37:16,773 INFO sqlalchemy.engine.Engine [no key 0.00018s] ()\n",
      "2024-01-22 19:37:17,215 INFO sqlalchemy.engine.Engine INSERT INTO crime_data (\"index\", \"Date\", \"Suburb\", \"Postcode\", \"Offence Level 1 Description\", \"Offence Level 2 Description\", \"Offence Count\", \"Distance from CBD (km)\") VALUES (?, ?, ?, ?, ?, ?, ?, ?)\n",
      "2024-01-22 19:37:17,216 INFO sqlalchemy.engine.Engine [generated in 0.37873s] [(0, '2022-07-01 00:00:00.000000', 'ADELAIDE', '5000', 'PROPERTY', 'FRAUD', 1, 0.0), (1, '2022-07-01 00:00:00.000000', 'ADELAIDE', '5000', 'PROPERTY', 'PROPERTY DAMAGE', 1, 0.0), (2, '2022-07-01 00:00:00.000000', 'ADELAIDE', '5000', 'PROPERTY', 'PROPERTY DAMAGE', 2, 0.0), (3, '2022-07-01 00:00:00.000000', 'ADELAIDE', '5000', 'PROPERTY', 'TRESPASS', 1, 0.0), (4, '2022-07-01 00:00:00.000000', 'ADELAIDE', '5000', 'PROPERTY', 'THEFT', 2, 0.0), (5, '2022-07-01 00:00:00.000000', 'ADELAIDE', '5000', 'PROPERTY', 'THEFT', 8, 0.0), (6, '2022-07-01 00:00:00.000000', 'ADELAIDE', '5000', 'PERSON', 'INJURY', 1, 0.0), (7, '2022-07-02 00:00:00.000000', 'ADELAIDE', '5000', 'PROPERTY', 'TRESPASS', 1, 0.0)  ... displaying 10 of 77456 total bound parameter sets ...  (77454, '2023-04-23 00:00:00.000000', 'SANDY CREEK', '5350', 'PROPERTY', 'THEFT', 1, 47.67), (77455, '2023-05-01 00:00:00.000000', 'SANDY CREEK', '5350', 'PROPERTY', 'THEFT', 1, 47.67)]\n",
      "2024-01-22 19:37:17,312 INFO sqlalchemy.engine.Engine COMMIT\n",
      "2024-01-22 19:37:17,319 INFO sqlalchemy.engine.Engine BEGIN (implicit)\n",
      "2024-01-22 19:37:17,320 INFO sqlalchemy.engine.Engine SELECT * FROM crime_data LIMIT 10\n",
      "2024-01-22 19:37:17,321 INFO sqlalchemy.engine.Engine [raw sql] ()\n"
     ]
    }
   ],
   "source": [
    "# using sqlite and sqlalchemy, export df_final to a sql database\n",
    "from sqlalchemy import create_engine\n",
    "engine = create_engine('sqlite:///crime_data.db', echo=True)\n",
    "sqlite_connection = engine.connect()\n",
    "sqlite_table = \"crime_data\"\n",
    "df_final.to_sql(sqlite_table, sqlite_connection, if_exists='replace')\n",
    "\n",
    "# SELECT first ten entries from the database\n",
    "sqlite_query = 'SELECT * FROM crime_data LIMIT 10'\n",
    "df_sql = pd.read_sql_query(sqlite_query, sqlite_connection)"
   ]
  },
  {
   "cell_type": "code",
   "execution_count": 18,
   "metadata": {},
   "outputs": [
    {
     "data": {
      "text/html": [
       "<div>\n",
       "<style scoped>\n",
       "    .dataframe tbody tr th:only-of-type {\n",
       "        vertical-align: middle;\n",
       "    }\n",
       "\n",
       "    .dataframe tbody tr th {\n",
       "        vertical-align: top;\n",
       "    }\n",
       "\n",
       "    .dataframe thead th {\n",
       "        text-align: right;\n",
       "    }\n",
       "</style>\n",
       "<table border=\"1\" class=\"dataframe\">\n",
       "  <thead>\n",
       "    <tr style=\"text-align: right;\">\n",
       "      <th></th>\n",
       "      <th>index</th>\n",
       "      <th>Date</th>\n",
       "      <th>Suburb</th>\n",
       "      <th>Postcode</th>\n",
       "      <th>Offence Level 1 Description</th>\n",
       "      <th>Offence Level 2 Description</th>\n",
       "      <th>Offence Count</th>\n",
       "      <th>Distance from CBD (km)</th>\n",
       "    </tr>\n",
       "  </thead>\n",
       "  <tbody>\n",
       "    <tr>\n",
       "      <th>0</th>\n",
       "      <td>0</td>\n",
       "      <td>2022-07-01 00:00:00.000000</td>\n",
       "      <td>ADELAIDE</td>\n",
       "      <td>5000</td>\n",
       "      <td>PROPERTY</td>\n",
       "      <td>FRAUD</td>\n",
       "      <td>1</td>\n",
       "      <td>0.0</td>\n",
       "    </tr>\n",
       "    <tr>\n",
       "      <th>1</th>\n",
       "      <td>1</td>\n",
       "      <td>2022-07-01 00:00:00.000000</td>\n",
       "      <td>ADELAIDE</td>\n",
       "      <td>5000</td>\n",
       "      <td>PROPERTY</td>\n",
       "      <td>PROPERTY DAMAGE</td>\n",
       "      <td>1</td>\n",
       "      <td>0.0</td>\n",
       "    </tr>\n",
       "    <tr>\n",
       "      <th>2</th>\n",
       "      <td>2</td>\n",
       "      <td>2022-07-01 00:00:00.000000</td>\n",
       "      <td>ADELAIDE</td>\n",
       "      <td>5000</td>\n",
       "      <td>PROPERTY</td>\n",
       "      <td>PROPERTY DAMAGE</td>\n",
       "      <td>2</td>\n",
       "      <td>0.0</td>\n",
       "    </tr>\n",
       "    <tr>\n",
       "      <th>3</th>\n",
       "      <td>3</td>\n",
       "      <td>2022-07-01 00:00:00.000000</td>\n",
       "      <td>ADELAIDE</td>\n",
       "      <td>5000</td>\n",
       "      <td>PROPERTY</td>\n",
       "      <td>TRESPASS</td>\n",
       "      <td>1</td>\n",
       "      <td>0.0</td>\n",
       "    </tr>\n",
       "    <tr>\n",
       "      <th>4</th>\n",
       "      <td>4</td>\n",
       "      <td>2022-07-01 00:00:00.000000</td>\n",
       "      <td>ADELAIDE</td>\n",
       "      <td>5000</td>\n",
       "      <td>PROPERTY</td>\n",
       "      <td>THEFT</td>\n",
       "      <td>2</td>\n",
       "      <td>0.0</td>\n",
       "    </tr>\n",
       "    <tr>\n",
       "      <th>5</th>\n",
       "      <td>5</td>\n",
       "      <td>2022-07-01 00:00:00.000000</td>\n",
       "      <td>ADELAIDE</td>\n",
       "      <td>5000</td>\n",
       "      <td>PROPERTY</td>\n",
       "      <td>THEFT</td>\n",
       "      <td>8</td>\n",
       "      <td>0.0</td>\n",
       "    </tr>\n",
       "    <tr>\n",
       "      <th>6</th>\n",
       "      <td>6</td>\n",
       "      <td>2022-07-01 00:00:00.000000</td>\n",
       "      <td>ADELAIDE</td>\n",
       "      <td>5000</td>\n",
       "      <td>PERSON</td>\n",
       "      <td>INJURY</td>\n",
       "      <td>1</td>\n",
       "      <td>0.0</td>\n",
       "    </tr>\n",
       "    <tr>\n",
       "      <th>7</th>\n",
       "      <td>7</td>\n",
       "      <td>2022-07-02 00:00:00.000000</td>\n",
       "      <td>ADELAIDE</td>\n",
       "      <td>5000</td>\n",
       "      <td>PROPERTY</td>\n",
       "      <td>TRESPASS</td>\n",
       "      <td>1</td>\n",
       "      <td>0.0</td>\n",
       "    </tr>\n",
       "    <tr>\n",
       "      <th>8</th>\n",
       "      <td>8</td>\n",
       "      <td>2022-07-02 00:00:00.000000</td>\n",
       "      <td>ADELAIDE</td>\n",
       "      <td>5000</td>\n",
       "      <td>PROPERTY</td>\n",
       "      <td>THEFT</td>\n",
       "      <td>2</td>\n",
       "      <td>0.0</td>\n",
       "    </tr>\n",
       "    <tr>\n",
       "      <th>9</th>\n",
       "      <td>9</td>\n",
       "      <td>2022-07-02 00:00:00.000000</td>\n",
       "      <td>ADELAIDE</td>\n",
       "      <td>5000</td>\n",
       "      <td>PROPERTY</td>\n",
       "      <td>THEFT</td>\n",
       "      <td>7</td>\n",
       "      <td>0.0</td>\n",
       "    </tr>\n",
       "  </tbody>\n",
       "</table>\n",
       "</div>"
      ],
      "text/plain": [
       "   index                        Date    Suburb Postcode  \\\n",
       "0      0  2022-07-01 00:00:00.000000  ADELAIDE     5000   \n",
       "1      1  2022-07-01 00:00:00.000000  ADELAIDE     5000   \n",
       "2      2  2022-07-01 00:00:00.000000  ADELAIDE     5000   \n",
       "3      3  2022-07-01 00:00:00.000000  ADELAIDE     5000   \n",
       "4      4  2022-07-01 00:00:00.000000  ADELAIDE     5000   \n",
       "5      5  2022-07-01 00:00:00.000000  ADELAIDE     5000   \n",
       "6      6  2022-07-01 00:00:00.000000  ADELAIDE     5000   \n",
       "7      7  2022-07-02 00:00:00.000000  ADELAIDE     5000   \n",
       "8      8  2022-07-02 00:00:00.000000  ADELAIDE     5000   \n",
       "9      9  2022-07-02 00:00:00.000000  ADELAIDE     5000   \n",
       "\n",
       "  Offence Level 1 Description Offence Level 2 Description  Offence Count  \\\n",
       "0                    PROPERTY                       FRAUD              1   \n",
       "1                    PROPERTY             PROPERTY DAMAGE              1   \n",
       "2                    PROPERTY             PROPERTY DAMAGE              2   \n",
       "3                    PROPERTY                    TRESPASS              1   \n",
       "4                    PROPERTY                       THEFT              2   \n",
       "5                    PROPERTY                       THEFT              8   \n",
       "6                      PERSON                      INJURY              1   \n",
       "7                    PROPERTY                    TRESPASS              1   \n",
       "8                    PROPERTY                       THEFT              2   \n",
       "9                    PROPERTY                       THEFT              7   \n",
       "\n",
       "   Distance from CBD (km)  \n",
       "0                     0.0  \n",
       "1                     0.0  \n",
       "2                     0.0  \n",
       "3                     0.0  \n",
       "4                     0.0  \n",
       "5                     0.0  \n",
       "6                     0.0  \n",
       "7                     0.0  \n",
       "8                     0.0  \n",
       "9                     0.0  "
      ]
     },
     "execution_count": 18,
     "metadata": {},
     "output_type": "execute_result"
    }
   ],
   "source": [
    "df_sql"
   ]
  },
  {
   "cell_type": "code",
   "execution_count": null,
   "metadata": {},
   "outputs": [],
   "source": []
  }
 ],
 "metadata": {
  "kernelspec": {
   "display_name": "Python 3",
   "language": "python",
   "name": "python3"
  },
  "language_info": {
   "codemirror_mode": {
    "name": "ipython",
    "version": 3
   },
   "file_extension": ".py",
   "mimetype": "text/x-python",
   "name": "python",
   "nbconvert_exporter": "python",
   "pygments_lexer": "ipython3",
   "version": "3.11.3"
  }
 },
 "nbformat": 4,
 "nbformat_minor": 2
}

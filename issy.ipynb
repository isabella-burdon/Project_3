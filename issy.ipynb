{
 "cells": [
  {
   "cell_type": "code",
   "execution_count": 1,
   "metadata": {},
   "outputs": [],
   "source": [
    "# load dependancies\n",
    "import pandas as pd"
   ]
  },
  {
   "cell_type": "code",
   "execution_count": 6,
   "metadata": {},
   "outputs": [],
   "source": [
    "# read in csv to pandas dataframe\n",
    "raw_data = pd.read_csv('2022-23_data_sa_crime.csv')"
   ]
  },
  {
   "cell_type": "code",
   "execution_count": 48,
   "metadata": {},
   "outputs": [],
   "source": [
    "df = raw_data.copy()\n",
    "\n",
    "# drop columns that are not needed\n",
    "df.drop(['Offence Level 3 Description'], axis=1, inplace=True)\n",
    "\n",
    "# change reported date to ISO format (YYYY-MM-DD)\n",
    "df['Reported Date'] = pd.to_datetime(df['Reported Date'], format='%d/%m/%Y')\n",
    "\n",
    "# rename columns\n",
    "df.columns = ['Date', 'Suburb', 'Postcode', 'Offence Level 1 Description', 'Offence Level 2 Description', 'Offence Count']"
   ]
  },
  {
   "cell_type": "code",
   "execution_count": 50,
   "metadata": {},
   "outputs": [],
   "source": [
    "# string of data with postcode, suburb, ditance from cbd, first line is not a header\n",
    "radius50km = pd.read_csv('radius50kmcbd.csv', header=None)\n",
    "\n",
    "# split data into columns, delimiter is \",\"\n",
    "radius50km = radius50km[0].str.split(',', expand=True)\n",
    "\n",
    "# rename columns\n",
    "radius50km.columns = ['Postcode', 'Location', 'Distance from CBD (km)']\n",
    "\n",
    "# drop location column\n",
    "radius50km.drop(['Location'], axis=1, inplace=True)\n",
    "\n",
    "# aggregate all rows by postcode, average the distance from cbd if not 0\n",
    "radius50km = radius50km.groupby(['Postcode'], as_index=False).agg(\n",
    "    {'Distance from CBD (km)': lambda x: x.astype(float).mean(skipna=True)}\n",
    ")"
   ]
  },
  {
   "cell_type": "code",
   "execution_count": 52,
   "metadata": {},
   "outputs": [],
   "source": [
    "# drop all rows from df if the postcode is not in the radius50km dataframe\n",
    "df_50kmradius = df[df['Postcode'].isin(radius50km['Postcode'])]\n",
    "\n",
    "# add the distance from cbd column to df_50kmradius\n",
    "df_50kmradius = pd.merge(df_50kmradius, radius50km, on='Postcode')"
   ]
  },
  {
   "cell_type": "code",
   "execution_count": 57,
   "metadata": {},
   "outputs": [],
   "source": [
    "# summarise offences by level 2 description\n",
    "df_level2 = df_50kmradius.groupby(['Date', 'Suburb', 'Offence Level 2 Description'], as_index=False).agg(\n",
    "    {'Postcode': 'first', \n",
    "     'Distance from CBD (km)': 'first',\n",
    "     'Offence Level 1 Description': 'first', \n",
    "     'Offence Level 2 Description': 'first',\n",
    "     'Offence Count': 'sum'\n",
    "     }\n",
    ")                  "
   ]
  },
  {
   "cell_type": "code",
   "execution_count": 60,
   "metadata": {},
   "outputs": [],
   "source": [
    "# summarise offences by level 1 description\n",
    "df_level1 = df_50kmradius.groupby(['Date', 'Suburb', 'Offence Level 1 Description'], as_index=False).agg(\n",
    "    {'Postcode': 'first', \n",
    "     'Distance from CBD (km)': 'first',\n",
    "     'Offence Level 1 Description': 'first', \n",
    "     'Offence Count': 'sum',}\n",
    ")    "
   ]
  },
  {
   "cell_type": "code",
   "execution_count": 65,
   "metadata": {},
   "outputs": [
    {
     "name": "stdout",
     "output_type": "stream",
     "text": [
      "length of df 97078\n",
      "length of df with only suburbs in 50km radius 77456\n",
      "length of df_level2 68046\n",
      "length of df_level1 54820\n"
     ]
    }
   ],
   "source": [
    "print(f\"length of df {len(df)}\")\n",
    "print(f\"length of df with only suburbs in 50km radius {len(df_50kmradius)}\")\n",
    "print(f\"length of df_level2 {len(df_level2)}\")\n",
    "print(f\"length of df_level1 {len(df_level1)}\")"
   ]
  },
  {
   "cell_type": "code",
   "execution_count": 66,
   "metadata": {},
   "outputs": [],
   "source": [
    "# export all to csv\n",
    "df.to_csv('all_data_clean.csv', index=False)\n",
    "df_50kmradius.to_csv('50kmradius_data_clean.csv', index=False)\n",
    "df_level2.to_csv('level2_data_clean.csv', index=False)\n",
    "df_level1.to_csv('level1_data_clean.csv', index=False)"
   ]
  }
 ],
 "metadata": {
  "kernelspec": {
   "display_name": "Python 3",
   "language": "python",
   "name": "python3"
  },
  "language_info": {
   "codemirror_mode": {
    "name": "ipython",
    "version": 3
   },
   "file_extension": ".py",
   "mimetype": "text/x-python",
   "name": "python",
   "nbconvert_exporter": "python",
   "pygments_lexer": "ipython3",
   "version": "3.11.3"
  }
 },
 "nbformat": 4,
 "nbformat_minor": 2
}
